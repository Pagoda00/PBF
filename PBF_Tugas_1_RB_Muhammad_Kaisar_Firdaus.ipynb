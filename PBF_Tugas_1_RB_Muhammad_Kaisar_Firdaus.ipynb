{
  "cells": [
    {
      "cell_type": "markdown",
      "metadata": {
        "id": "i-QJrEwfE3OF"
      },
      "source": [
        "* Muhammad Kaisar Firdaus\n",
        "* 121450135\n",
        "* Sains Data\n",
        "* RB \n"
      ]
    },
    {
      "cell_type": "markdown",
      "metadata": {
        "id": "TpX0jh0CE3OK"
      },
      "source": [
        "# 1. Jelaskan menggunakan tabel mengenai kelebihan dan kekurangan paradigma procedural dibandingkan dengan object oriented (minimal 3) !\n",
        "\n",
        "| Kelebihan | Kelemahan |\n",
        "|------------|--------------| \n",
        "| Cocok untuk program sederhana | Kurang cocok untuk program kompleks | \n",
        "| Lebih mudah dipahami dibandingkan Object Oriented | kurang aman |\n",
        "| menggunakan memori yang lebih sedikit | fungsi sulit untuk diubah/dimodifikasi |\n",
        "\n",
        "\n",
        "\n",
        "\n"
      ]
    },
    {
      "cell_type": "markdown",
      "metadata": {
        "id": "ZBclRglsE3OK"
      },
      "source": [
        "2. Jelaskan menggunakan tabel mengenai kelebihan dan kekurangan paradigma object oriented dibandingkan dengan functional (minimal 3) !\n",
        "\n",
        "\n",
        "| Kelebihan | Kelemahan |\n",
        "|------------|--------------| \n",
        "| algoritma lebih jelas dairipada fungsional | program lebih kompleks dan banyak | \n",
        "| Cocok untuk program kompleks |  pemakaian momori yang lebih besar |\n",
        "| reusability(dapat digunakan kembali) | sulit dipahami |\n",
        "\n",
        "\n",
        "\n"
      ]
    },
    {
      "cell_type": "markdown",
      "metadata": {
        "id": "iQwpPgWoE3OL"
      },
      "source": [
        "3. Jelaskan menggunakan tabel mengenai kelebihan dan kekurangan paradigma procedural dibandingkan dengan functional (minimal 3) !\n",
        "\n",
        "|kelebihan | kekurangan |\n",
        "|-------|-----|\n",
        "| mudah dipahami |\tMemiliki algoritma pemecahan masalah yanag sederhana |\n",
        "| Memiliki algoritma pemecahan masalah yanag sederhana|\tMungkin dapat bekerja dengan baik pada saat terisolasi tapi tidak pada saat terintegrasi dengan sistem lain. |\n",
        "|Data bersifat mutable | fungsi sulit untuk diubah/dimodifikasi |"
      ]
    },
    {
      "cell_type": "markdown",
      "metadata": {
        "id": "pEB5QRAFE3OM"
      },
      "source": [
        "|"
      ]
    },
    {
      "cell_type": "markdown",
      "metadata": {
        "id": "ib5vTLpCE3OM"
      },
      "source": [
        " # 4. Apa yang dimaksud dengan pure functional programming language?\n",
        "\n",
        "\n",
        "\"Pure functional programming language adalah di mana pada fungsinya menerima parameter sebagai input dan mengembalikan nilai, tanpa mengubah nilai dari variabel manapun\""
      ]
    },
    {
      "cell_type": "markdown",
      "metadata": {
        "id": "FgYTvsJcE3OM"
      },
      "source": [
        " # 5. Dari bahasa pemrograman FP di slide sebelumnya ( slide 14 ) , manakah yang termasuk pure functional programming language?\n",
        "\n",
        " Lisp, Haskell"
      ]
    },
    {
      "cell_type": "markdown",
      "metadata": {
        "id": "yLUT121aE3ON"
      },
      "source": [
        "# 6. Membuat program Simple Password encryption, dengan ketentuan\n",
        "\n",
        "1. Input password bertipe string dengan batasan panjang password 100 karakter\n",
        "2. Setiap karakter dari string tersebut diubah menjadi ASCII value\n",
        "3. Kemudian setiap ASCII value tersebut dikembangkan menjadi 3 value dengan dilakukan operasi berikut:\n",
        "1. Value pertama dibagi dengan integer 26 kemudian dibulatkan dan dijumlahkan dengan 80 kemudian diubah kembali menjadi karakter\n",
        "2. Value kedua dihitung sisa bagi dengan 26 kemudian dijumlahkan dengan 80 kemudian diubah kembali menjadi karakter\n",
        "3. Value ketiga adalah karakter ‘+’ jika value pertama lebih besar dari value kedua, atau value ketiga adalah karakter ‘-’ jika value pertama tidak lebih besar dari value kedua\n",
        "4. Deretkan value pertama, kedua dan ketiga untuk setiap karakter dalam password tersebut sehingga didapatkan password dalam bentuk baru"
      ]
    },
    {
      "cell_type": "code",
      "execution_count": 2,
      "metadata": {
        "colab": {
          "base_uri": "https://localhost:8080/"
        },
        "id": "3LKNOSQnE3OO",
        "outputId": "c249e776-b7ea-45f8-9470-201d471a6467"
      },
      "outputs": [
        {
          "output_type": "stream",
          "name": "stdout",
          "text": [
            "Masukkan Password: 123\n",
            "Rg-Rh-Ri-\n"
          ]
        }
      ],
      "source": [
        "def enkripsi(pas):\n",
        "    if len(pas) > 100:\n",
        "        return \"Kata Kelebihan\"\n",
        "    elif len(pas) < 3: \n",
        "        return \"kata kurang \"\n",
        "   \n",
        "    enkripsi_password = \"\"\n",
        "    for char in pas:\n",
        "        ascii_value = ord(char) \n",
        "        value_1 = chr(round((ascii_value / 26)) + 80) \n",
        "        value_2 = chr((ascii_value % 26) + 80)\n",
        "        if value_1 > value_2:\n",
        "            value_3 = '+'; \n",
        "        else:\n",
        "            value_3 = '-'\n",
        "        enkripsi_password += value_1 + value_2 + value_3\n",
        "    print(enkripsi_password)\n",
        "\n",
        "password = input(\"Masukkan Password: \") #contoh \"institut teknologi sumatera\"\n",
        "enkripsi(password)\n",
        "\n",
        "\n",
        "\n"
      ]
    }
  ],
  "metadata": {
    "kernelspec": {
      "display_name": "Python 3",
      "language": "python",
      "name": "python3"
    },
    "language_info": {
      "codemirror_mode": {
        "name": "ipython",
        "version": 3
      },
      "file_extension": ".py",
      "mimetype": "text/x-python",
      "name": "python",
      "nbconvert_exporter": "python",
      "pygments_lexer": "ipython3",
      "version": "3.10.7"
    },
    "orig_nbformat": 4,
    "vscode": {
      "interpreter": {
        "hash": "cd844455b4044aa9d3989e0200a63dac8f95b37a0bbb344bd4f2a96fbf3af8cb"
      }
    },
    "colab": {
      "provenance": []
    }
  },
  "nbformat": 4,
  "nbformat_minor": 0
}